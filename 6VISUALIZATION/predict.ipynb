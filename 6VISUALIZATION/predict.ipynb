{
 "cells": [
  {
   "cell_type": "markdown",
   "metadata": {},
   "source": [
    "# A Test case file to predict the output of the model"
   ]
  },
  {
   "cell_type": "code",
   "execution_count": null,
   "metadata": {},
   "outputs": [],
   "source": [
    "# import necessary libraries\n",
    "import numpy as np\n",
    "import pandas as pd\n",
    "import tensorflow as tf\n",
    "import matplotlib.pyplot as plt\n",
    "from tensorflow.keras.models import load_model\n",
    "from tensorflow.keras.layers import LeakyReLU"
   ]
  },
  {
   "cell_type": "code",
   "execution_count": 3,
   "metadata": {},
   "outputs": [
    {
     "name": "stdout",
     "output_type": "stream",
     "text": [
      "Model loaded successfully.\n",
      "Dataset loaded successfully.\n"
     ]
    }
   ],
   "source": [
    "# Load the trained model\n",
    "model = load_model(\n",
    "    '../5ADVANCED_TRAINING/Tuned_Model/CNN_TF_Tuned.keras',custom_objects={\"LeakyReLU\": LeakyReLU}  # Fix LeakyReLU issue\n",
    ")\n",
    "print('Model loaded successfully.')\n",
    "\n",
    "# Load the dataset (cropped test set)\n",
    "csv_path = '../2PREPROCESSING/Processed_CSV/cropped_test.csv'\n",
    "data = pd.read_csv(csv_path)\n",
    "print('Dataset loaded successfully.')"
   ]
  },
  {
   "cell_type": "code",
   "execution_count": 12,
   "metadata": {},
   "outputs": [
    {
     "name": "stdout",
     "output_type": "stream",
     "text": [
      "\u001b[1m1/1\u001b[0m \u001b[32m━━━━━━━━━━━━━━━━━━━━\u001b[0m\u001b[37m\u001b[0m \u001b[1m0s\u001b[0m 19ms/step\n"
     ]
    },
    {
     "data": {
      "image/png": "[encoded data removed]",
      "text/plain": [
       "<Figure size 640x480 with 1 Axes>"
      ]
     },
     "metadata": {},
     "output_type": "display_data"
    },
    {
     "name": "stdout",
     "output_type": "stream",
     "text": [
      "Model Prediction: 7\n"
     ]
    }
   ],
   "source": [
    "# img-lable\n",
    "img_select = 0\n",
    "\n",
    "# Extract the 0th image and reshape it for prediction\n",
    "image_data = data.iloc[img_select, 1:].values  # Exclude label column\n",
    "label = data.iloc[img_select, 0]  # True label\n",
    "\n",
    "# Reshape to cropped image dimensions (20x20) and normalize\n",
    "image = image_data.reshape(20, 20) / 255.0  \n",
    "\n",
    "# Reshape for CNN input (batch_size, height, width, channels)\n",
    "input_image = image.reshape(1, 20, 20, 1)  \n",
    "\n",
    "# Make a prediction\n",
    "prediction = model.predict(input_image)\n",
    "predicted_label = np.argmax(prediction)  # Get the predicted digit\n",
    "\n",
    "# Display the image and prediction\n",
    "plt.imshow(image, cmap='gray')\n",
    "plt.title(f\"True Label: {label}, Predicted: {predicted_label}\")\n",
    "plt.axis('off')\n",
    "plt.show()\n",
    "\n",
    "# Print the predicted result\n",
    "print(f\"Model Prediction: {predicted_label}\")"
   ]
  }
 ],
 "metadata": {
  "kernelspec": {
   "display_name": "Python 3",
   "language": "python",
   "name": "python3"
  },
  "language_info": {
   "codemirror_mode": {
    "name": "ipython",
    "version": 3
   },
   "file_extension": ".py",
   "mimetype": "text/x-python",
   "name": "python",
   "nbconvert_exporter": "python",
   "pygments_lexer": "ipython3",
   "version": "3.10.11"
  }
 },
 "nbformat": 4,
 "nbformat_minor": 2
}
