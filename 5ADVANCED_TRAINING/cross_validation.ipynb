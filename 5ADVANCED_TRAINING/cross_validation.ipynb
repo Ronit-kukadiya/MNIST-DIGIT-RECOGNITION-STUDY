{
 "cells": [
  {
   "cell_type": "markdown",
   "metadata": {},
   "source": [
    "### this file is used to dave the results of all the models used which will be helpfull for validation"
   ]
  },
  {
   "cell_type": "code",
   "execution_count": null,
   "metadata": {},
   "outputs": [],
   "source": [
    "#import necessary libraires\n",
    "import numpy as np\n",
    "import pandas as pd\n",
    "import os\n",
    "import matplotlib.pyplot as plt\n",
    "import seaborn as sns\n",
    "import torch\n",
    "import torch.nn as nn\n",
    "import torch.optim as optim\n",
    "from tensorflow import keras\n",
    "from tensorflow.keras import layers\n",
    "from sklearn.model_selection import StratifiedKFold\n",
    "from sklearn.metrics import accuracy_score\n",
    "from sklearn.ensemble import RandomForestClassifier\n",
    "from sklearn.naive_bayes import GaussianNB\n",
    "from sklearn.linear_model import LogisticRegression\n",
    "from sklearn.neighbors import KNeighborsClassifier\n",
    "from sklearn.svm import SVC"
   ]
  },
  {
   "cell_type": "code",
   "execution_count": null,
   "metadata": {},
   "outputs": [],
   "source": [
    "#  File paths\n",
    "data_path = \"../2PREPROCESSING/Processed_CSV/cropped_train.csv\"\n",
    "ml_dir = \"CrossValidation/ML\"\n",
    "dl_dir = \"CrossValidation/DL\"\n",
    "\n",
    "#  Ensure directories exist\n",
    "os.makedirs(ml_dir, exist_ok=True)\n",
    "os.makedirs(dl_dir, exist_ok=True)\n",
    "\n",
    "df = pd.read_csv(data_path)\n",
    "y = df.iloc[:, 0].values.astype(int)  # Labels (first column)\n",
    "X = df.iloc[:, 1:].values  # Features (remaining columns)\n",
    "\n",
    "#  Reshape for DL models (28x28 images)\n",
    "X_dl = X.reshape(-1, 20, 20, 1).astype(\"float32\")\n",
    "\n",
    "#  Cross-validation setup\n",
    "cv = StratifiedKFold(n_splits=5, shuffle=True, random_state=42)"
   ]
  },
  {
   "cell_type": "code",
   "execution_count": null,
   "metadata": {},
   "outputs": [
    {
     "name": "stdout",
     "output_type": "stream",
     "text": [
      "\n",
      "🔍 Cross-validating KNN...\n",
      "\n",
      "🔍 Cross-validating LogisticRegression...\n",
      "\n",
      "🔍 Cross-validating NaiveBayes...\n",
      "\n",
      "🔍 Cross-validating RandomForest...\n",
      "\n",
      "🔍 Cross-validating SVM...\n"
     ]
    }
   ],
   "source": [
    "# =========================\n",
    "#  MACHINE LEARNING MODELS\n",
    "# =========================\n",
    "ml_models = {\n",
    "    \"KNN\": KNeighborsClassifier(),\n",
    "    \"LogisticRegression\": LogisticRegression(max_iter=1000),\n",
    "    \"NaiveBayes\": GaussianNB(),\n",
    "    \"RandomForest\": RandomForestClassifier(n_estimators=100),\n",
    "    \"SVM\": SVC()\n",
    "}\n",
    "ml_results = {}\n",
    "\n",
    "for name, model in ml_models.items():\n",
    "    print(f\"\\n Cross-validating {name}...\")\n",
    "    accuracies = []\n",
    "    for train_idx, val_idx in cv.split(X, y):\n",
    "        model.fit(X[train_idx], y[train_idx])\n",
    "        y_pred = model.predict(X[val_idx])\n",
    "        acc = accuracy_score(y[val_idx], y_pred)\n",
    "        accuracies.append(acc)\n",
    "    \n",
    "    accuracies = np.array(accuracies)\n",
    "    ml_results[name] = accuracies\n",
    "    np.save(os.path.join(ml_dir, f\"{name}_cross_val_results.npy\"), accuracies)"
   ]
  },
  {
   "cell_type": "code",
   "execution_count": null,
   "metadata": {},
   "outputs": [
    {
     "name": "stdout",
     "output_type": "stream",
     "text": [
      "\n",
      "🔍 Cross-validating CNN (PyTorch)...\n",
      "\n",
      "🔍 Cross-validating CNN (TF)...\n"
     ]
    },
    {
     "name": "stderr",
     "output_type": "stream",
     "text": [
      "c:\\Users\\RONIT\\AppData\\Local\\Programs\\Python\\Python310\\lib\\site-packages\\keras\\src\\layers\\convolutional\\base_conv.py:107: UserWarning: Do not pass an `input_shape`/`input_dim` argument to a layer. When using Sequential models, prefer using an `Input(shape)` object as the first layer in the model instead.\n",
      "  super().__init__(activity_regularizer=activity_regularizer, **kwargs)\n"
     ]
    },
    {
     "name": "stdout",
     "output_type": "stream",
     "text": [
      "\n",
      "🔍 Cross-validating DenseNN (TF)...\n"
     ]
    },
    {
     "name": "stderr",
     "output_type": "stream",
     "text": [
      "c:\\Users\\RONIT\\AppData\\Local\\Programs\\Python\\Python310\\lib\\site-packages\\keras\\src\\layers\\reshaping\\flatten.py:37: UserWarning: Do not pass an `input_shape`/`input_dim` argument to a layer. When using Sequential models, prefer using an `Input(shape)` object as the first layer in the model instead.\n",
      "  super().__init__(**kwargs)\n"
     ]
    }
   ],
   "source": [
    "# =======================\n",
    "#  DEEP LEARNING MODELS\n",
    "# =======================\n",
    "device = torch.device(\"cuda\" if torch.cuda.is_available() else \"cpu\")\n",
    "\n",
    "#  CNN (PyTorch)\n",
    "class CNN_PyTorch(nn.Module):\n",
    "    def __init__(self):\n",
    "        super().__init__()\n",
    "        self.conv1 = nn.Conv2d(1, 32, kernel_size=3, padding=1)\n",
    "        self.conv2 = nn.Conv2d(32, 64, kernel_size=3, padding=1)\n",
    "        self.pool = nn.MaxPool2d(2, 2)\n",
    "        self.fc1 = nn.Linear(64 * 5 * 5, 128)\n",
    "        self.fc2 = nn.Linear(128, 10)\n",
    "        self.relu = nn.ReLU()\n",
    "\n",
    "    def forward(self, x):\n",
    "        x = self.pool(self.relu(self.conv1(x)))\n",
    "        x = self.pool(self.relu(self.conv2(x)))\n",
    "        x = x.reshape(x.size(0), -1)  #  Ensures contiguous memory\n",
    "        x = self.relu(self.fc1(x))\n",
    "        return self.fc2(x)\n",
    "\n",
    "cnn_pytorch = CNN_PyTorch().to(device)\n",
    "criterion = nn.CrossEntropyLoss()\n",
    "optimizer = optim.Adam(cnn_pytorch.parameters(), lr=0.001)\n",
    "\n",
    "print(\"\\n Cross-validating CNN (PyTorch)...\")\n",
    "cnn_pytorch_accs = []\n",
    "for train_idx, val_idx in cv.split(X_dl, y):\n",
    "    X_train_cv = torch.tensor(X_dl[train_idx], dtype=torch.float32).permute(0, 3, 1, 2).to(device)\n",
    "    y_train_cv = torch.tensor(y[train_idx], dtype=torch.long).to(device)\n",
    "    X_val_cv = torch.tensor(X_dl[val_idx], dtype=torch.float32).permute(0, 3, 1, 2).to(device)\n",
    "    y_val_cv = torch.tensor(y[val_idx], dtype=torch.long).to(device)\n",
    "\n",
    "    for epoch in range(3):\n",
    "        optimizer.zero_grad()\n",
    "        outputs = cnn_pytorch(X_train_cv)\n",
    "        loss = criterion(outputs, y_train_cv)\n",
    "        loss.backward()\n",
    "        optimizer.step()\n",
    "    \n",
    "    y_pred = cnn_pytorch(X_val_cv).argmax(dim=1).cpu().numpy()\n",
    "    acc = accuracy_score(y[val_idx], y_pred)\n",
    "    cnn_pytorch_accs.append(acc)\n",
    "\n",
    "cnn_pytorch_accs = np.array(cnn_pytorch_accs)\n",
    "np.save(os.path.join(dl_dir, \"CNN_PyTorch_cross_val_results.npy\"), cnn_pytorch_accs)\n",
    "\n",
    "#  CNN (TensorFlow)\n",
    "print(\"\\n Cross-validating CNN (TF)...\")\n",
    "cnn_tf = keras.Sequential([\n",
    "    layers.Conv2D(32, (3, 3), activation=\"relu\", input_shape=(20, 20, 1)),\n",
    "    layers.MaxPooling2D((2, 2)),\n",
    "    layers.Conv2D(64, (3, 3), activation=\"relu\"),\n",
    "    layers.MaxPooling2D((2, 2)),\n",
    "    layers.Flatten(),\n",
    "    layers.Dense(128, activation=\"relu\"),\n",
    "    layers.Dense(10, activation=\"softmax\")\n",
    "])\n",
    "\n",
    "cnn_tf.compile(optimizer=\"adam\", loss=\"sparse_categorical_crossentropy\", metrics=[\"accuracy\"])\n",
    "cnn_tf_accs = []\n",
    "for train_idx, val_idx in cv.split(X_dl, y):\n",
    "    cnn_tf.fit(X_dl[train_idx], y[train_idx], epochs=3, verbose=0)\n",
    "    acc = cnn_tf.evaluate(X_dl[val_idx], y[val_idx], verbose=0)[1]\n",
    "    cnn_tf_accs.append(acc)\n",
    "\n",
    "np.save(os.path.join(dl_dir, \"CNN_TF_cross_val_results.npy\"), np.array(cnn_tf_accs))\n",
    "\n",
    "#  Dense NN (TensorFlow)\n",
    "print(\"\\n Cross-validating DenseNN (TF)...\")\n",
    "dense_nn_tf = keras.Sequential([\n",
    "    layers.Flatten(input_shape=(20, 20, 1)),\n",
    "    layers.Dense(128, activation=\"relu\"),\n",
    "    layers.Dense(64, activation=\"relu\"),\n",
    "    layers.Dense(10, activation=\"softmax\")\n",
    "])\n",
    "\n",
    "dense_nn_tf.compile(optimizer=\"adam\", loss=\"sparse_categorical_crossentropy\", metrics=[\"accuracy\"])\n",
    "dense_nn_tf_accs = []\n",
    "for train_idx, val_idx in cv.split(X_dl, y):\n",
    "    dense_nn_tf.fit(X_dl[train_idx], y[train_idx], epochs=3, verbose=0)\n",
    "    acc = dense_nn_tf.evaluate(X_dl[val_idx], y[val_idx], verbose=0)[1]\n",
    "    dense_nn_tf_accs.append(acc)\n",
    "\n",
    "np.save(os.path.join(dl_dir, \"DenseNN_TF_cross_val_results.npy\"), np.array(dense_nn_tf_accs))"
   ]
  },
  {
   "cell_type": "code",
   "execution_count": null,
   "metadata": {},
   "outputs": [
    {
     "data": {
      "image/png": "[encoded data removed]",
      "text/plain": [
       "<Figure size 1000x600 with 1 Axes>"
      ]
     },
     "metadata": {},
     "output_type": "display_data"
    }
   ],
   "source": [
    "#  Bar plot (Mean Accuracies)\n",
    "plt.figure(figsize=(10, 6))\n",
    "mean_accuracies = {name: np.mean(accs) for name, accs in all_results.items()}\n",
    "sns.barplot(x=list(mean_accuracies.keys()), y=list(mean_accuracies.values()))\n",
    "plt.title(\"Average Cross-Validation Accuracy\")\n",
    "plt.ylabel(\"Mean Accuracy\")\n",
    "plt.xticks(rotation=45)\n",
    "plt.show()"
   ]
  }
 ],
 "metadata": {
  "kernelspec": {
   "display_name": "Python 3",
   "language": "python",
   "name": "python3"
  },
  "language_info": {
   "codemirror_mode": {
    "name": "ipython",
    "version": 3
   },
   "file_extension": ".py",
   "mimetype": "text/x-python",
   "name": "python",
   "nbconvert_exporter": "python",
   "pygments_lexer": "ipython3",
   "version": "3.10.11"
  }
 },
 "nbformat": 4,
 "nbformat_minor": 2
}
