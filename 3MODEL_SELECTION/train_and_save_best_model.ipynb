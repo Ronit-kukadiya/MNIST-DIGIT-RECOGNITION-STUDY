{
 "cells": [
  {
   "cell_type": "markdown",
   "metadata": {},
   "source": [
    "### to save the best model which we got from 'model_selection.ipynb' file"
   ]
  },
  {
   "cell_type": "code",
   "execution_count": null,
   "metadata": {},
   "outputs": [],
   "source": [
    "# import necessary libraries\n",
    "import numpy as np\n",
    "import tensorflow as tf\n",
    "from tensorflow import keras\n",
    "from tensorflow.keras import layers\n",
    "import time\n",
    "import os"
   ]
  },
  {
   "cell_type": "code",
   "execution_count": null,
   "metadata": {},
   "outputs": [],
   "source": [
    "# Load Data\n",
    "train_data = np.loadtxt(\"../2PREPROCESSING/Processed_CSV/cropped_train.csv\", delimiter=',', skiprows=1)\n",
    "X_train, y_train = train_data[:, 1:], train_data[:, 0]\n",
    "\n",
    "test_data = np.loadtxt(\"../2PREPROCESSING/Processed_CSV/cropped_test.csv\", delimiter=',', skiprows=1)\n",
    "X_test, y_test = test_data[:, 1:], test_data[:, 0]\n",
    "\n",
    "# Normalize (already min-max normalized in preprocessing)\n",
    "X_train = X_train.reshape(-1, 20, 20, 1)\n",
    "X_test = X_test.reshape(-1, 20, 20, 1)"
   ]
  },
  {
   "cell_type": "code",
   "execution_count": null,
   "metadata": {},
   "outputs": [],
   "source": [
    "# Define CNN Model\n",
    "model = keras.Sequential([\n",
    "    layers.Conv2D(32, (3, 3), activation=\"relu\", input_shape=(20, 20, 1)),\n",
    "    layers.MaxPooling2D((2, 2)),\n",
    "    layers.Conv2D(64, (3, 3), activation=\"relu\"),\n",
    "    layers.MaxPooling2D((2, 2)),\n",
    "    layers.Flatten(),\n",
    "    layers.Dense(128, activation=\"relu\"),\n",
    "    layers.Dense(10, activation=\"softmax\")\n",
    "])\n",
    "\n",
    "model.compile(optimizer=\"adam\", loss=\"sparse_categorical_crossentropy\", metrics=[\"accuracy\"])"
   ]
  },
  {
   "cell_type": "code",
   "execution_count": null,
   "metadata": {},
   "outputs": [
    {
     "name": "stdout",
     "output_type": "stream",
     "text": [
      "Epoch 1/10\n",
      "\u001b[1m469/469\u001b[0m \u001b[32m━━━━━━━━━━━━━━━━━━━━\u001b[0m\u001b[37m\u001b[0m \u001b[1m5s\u001b[0m 9ms/step - accuracy: 0.8186 - loss: 0.6408 - val_accuracy: 0.9691 - val_loss: 0.0974\n",
      "Epoch 2/10\n",
      "\u001b[1m469/469\u001b[0m \u001b[32m━━━━━━━━━━━━━━━━━━━━\u001b[0m\u001b[37m\u001b[0m \u001b[1m4s\u001b[0m 8ms/step - accuracy: 0.9702 - loss: 0.1001 - val_accuracy: 0.9795 - val_loss: 0.0697\n",
      "Epoch 3/10\n",
      "\u001b[1m469/469\u001b[0m \u001b[32m━━━━━━━━━━━━━━━━━━━━\u001b[0m\u001b[37m\u001b[0m \u001b[1m4s\u001b[0m 8ms/step - accuracy: 0.9794 - loss: 0.0687 - val_accuracy: 0.9847 - val_loss: 0.0513\n",
      "Epoch 4/10\n",
      "\u001b[1m469/469\u001b[0m \u001b[32m━━━━━━━━━━━━━━━━━━━━\u001b[0m\u001b[37m\u001b[0m \u001b[1m4s\u001b[0m 8ms/step - accuracy: 0.9843 - loss: 0.0507 - val_accuracy: 0.9854 - val_loss: 0.0495\n",
      "Epoch 5/10\n",
      "\u001b[1m469/469\u001b[0m \u001b[32m━━━━━━━━━━━━━━━━━━━━\u001b[0m\u001b[37m\u001b[0m \u001b[1m4s\u001b[0m 8ms/step - accuracy: 0.9873 - loss: 0.0416 - val_accuracy: 0.9887 - val_loss: 0.0412\n",
      "Epoch 6/10\n",
      "\u001b[1m469/469\u001b[0m \u001b[32m━━━━━━━━━━━━━━━━━━━━\u001b[0m\u001b[37m\u001b[0m \u001b[1m4s\u001b[0m 8ms/step - accuracy: 0.9891 - loss: 0.0359 - val_accuracy: 0.9873 - val_loss: 0.0420\n",
      "Epoch 7/10\n",
      "\u001b[1m469/469\u001b[0m \u001b[32m━━━━━━━━━━━━━━━━━━━━\u001b[0m\u001b[37m\u001b[0m \u001b[1m4s\u001b[0m 8ms/step - accuracy: 0.9906 - loss: 0.0314 - val_accuracy: 0.9897 - val_loss: 0.0362\n",
      "Epoch 8/10\n",
      "\u001b[1m469/469\u001b[0m \u001b[32m━━━━━━━━━━━━━━━━━━━━\u001b[0m\u001b[37m\u001b[0m \u001b[1m4s\u001b[0m 8ms/step - accuracy: 0.9917 - loss: 0.0272 - val_accuracy: 0.9866 - val_loss: 0.0435\n",
      "Epoch 9/10\n",
      "\u001b[1m469/469\u001b[0m \u001b[32m━━━━━━━━━━━━━━━━━━━━\u001b[0m\u001b[37m\u001b[0m \u001b[1m4s\u001b[0m 8ms/step - accuracy: 0.9933 - loss: 0.0216 - val_accuracy: 0.9879 - val_loss: 0.0399\n",
      "Epoch 10/10\n",
      "\u001b[1m469/469\u001b[0m \u001b[32m━━━━━━━━━━━━━━━━━━━━\u001b[0m\u001b[37m\u001b[0m \u001b[1m4s\u001b[0m 8ms/step - accuracy: 0.9947 - loss: 0.0182 - val_accuracy: 0.9871 - val_loss: 0.0414\n",
      "\n",
      "Training completed in 37.98 seconds.\n"
     ]
    }
   ],
   "source": [
    "# Train the Model\n",
    "start_time = time.time()\n",
    "history = model.fit(X_train, y_train, epochs=10, batch_size=128, validation_data=(X_test, y_test))\n",
    "end_time = time.time()\n",
    "\n",
    "# Save Model & Training Data\n",
    "model_dir = \"../3MODEL_SELECTION/MODELS/Best_Model\"\n",
    "os.makedirs(model_dir, exist_ok=True)\n",
    "\n",
    "# Save Model\n",
    "model.save(os.path.join(model_dir, \"CNN_TF.keras\"))\n",
    "\n",
    "# Save Training History for Evaluation in Step 4\n",
    "training_history = {\n",
    "    'accuracy': np.array(history.history['accuracy']),\n",
    "    'val_accuracy': np.array(history.history['val_accuracy']),\n",
    "    'loss': np.array(history.history['loss']),\n",
    "    'val_loss': np.array(history.history['val_loss'])\n",
    "}\n",
    "\n",
    "np.save(os.path.join(model_dir, \"training_history.npy\"), training_history, allow_pickle=True)\n",
    "\n",
    "# Save Training & Validation Loss Separately\n",
    "np.save(os.path.join(model_dir, \"training_loss.npy\"), np.array(history.history[\"loss\"]))\n",
    "np.save(os.path.join(model_dir, \"validation_loss.npy\"), np.array(history.history[\"val_loss\"]))\n",
    "\n",
    "print(f\"\\nTraining completed in {round(end_time - start_time, 2)} seconds.\")"
   ]
  }
 ],
 "metadata": {
  "kernelspec": {
   "display_name": "Python 3",
   "language": "python",
   "name": "python3"
  },
  "language_info": {
   "codemirror_mode": {
    "name": "ipython",
    "version": 3
   },
   "file_extension": ".py",
   "mimetype": "text/x-python",
   "name": "python",
   "nbconvert_exporter": "python",
   "pygments_lexer": "ipython3",
   "version": "3.10.11"
  }
 },
 "nbformat": 4,
 "nbformat_minor": 2
}
