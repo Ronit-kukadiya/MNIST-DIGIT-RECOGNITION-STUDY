{
 "cells": [
  {
   "cell_type": "markdown",
   "metadata": {},
   "source": [
    "### MODEL SELECTION\n",
    "### o ML-Models to be used:\n",
    "### 1. Random Forest\n",
    "### 2. SVM\n",
    "### 3. Logistic Regression\n",
    "### 4. KNN\n",
    "### 5. Naive Bayes\n",
    "\n",
    "### o DL-Models to be used:\n",
    "### 1. Convolutional Neural Network (CNN) : PyTorch\n",
    "### 2. Fully Connected Neural Network/Dense network : TensorFlow\n",
    "### 3. Convolutional Neural Network (CNN) : TensorFlow"
   ]
  },
  {
   "cell_type": "code",
   "execution_count": 1,
   "metadata": {},
   "outputs": [],
   "source": [
    "# Import necessary libraries\n",
    "import numpy as np\n",
    "import pandas as pd\n",
    "import matplotlib.pyplot as plt\n",
    "import seaborn as sns\n",
    "import time\n",
    "from sklearn.metrics import accuracy_score, precision_score, recall_score, f1_score\n",
    "from sklearn.model_selection import train_test_split\n",
    "from sklearn.preprocessing import StandardScaler\n",
    "from sklearn.ensemble import RandomForestClassifier\n",
    "from sklearn.svm import SVC\n",
    "from sklearn.linear_model import LogisticRegression\n",
    "from sklearn.neighbors import KNeighborsClassifier\n",
    "from sklearn.naive_bayes import GaussianNB\n",
    "import torch\n",
    "import torch.nn as nn\n",
    "import torch.optim as optim\n",
    "from torch.utils.data import DataLoader, TensorDataset\n",
    "import tensorflow as tf\n",
    "from tensorflow import keras"
   ]
  },
  {
   "cell_type": "code",
   "execution_count": 2,
   "metadata": {},
   "outputs": [],
   "source": [
    "# Step 1: Load preprocessed data\n",
    "train_df = pd.read_csv(\"../2PREPROCESSING/Processed_CSV/cropped_train.csv\")\n",
    "test_df = pd.read_csv(\"../2PREPROCESSING/Processed_CSV/cropped_test.csv\")\n",
    "\n",
    "# Separate features (X) and labels (y)\n",
    "X_train, y_train = train_df.iloc[:, 1:].values, train_df.iloc[:, 0].values\n",
    "X_test, y_test = test_df.iloc[:, 1:].values, test_df.iloc[:, 0].values\n",
    "\n",
    "# Normalize data using StandardScaler\n",
    "scaler = StandardScaler()\n",
    "X_train = scaler.fit_transform(X_train)\n",
    "X_test = scaler.transform(X_test)"
   ]
  },
  {
   "cell_type": "code",
   "execution_count": 3,
   "metadata": {},
   "outputs": [],
   "source": [
    "# Store results for comparison\n",
    "results = []\n",
    "\n",
    "# Step 2: Train Machine Learning models\n",
    "models = {\n",
    "    \"Random Forest\": RandomForestClassifier(n_estimators=100),\n",
    "    \"SVM\": SVC(kernel=\"rbf\"),\n",
    "    \"Logistic Regression\": LogisticRegression(max_iter=500),\n",
    "    \"KNN\": KNeighborsClassifier(n_neighbors=5),\n",
    "    \"Naive Bayes\": GaussianNB()\n",
    "}\n",
    "\n",
    "for name, model in models.items():\n",
    "    start_time = time.time()\n",
    "    model.fit(X_train, y_train)\n",
    "    y_pred = model.predict(X_test)\n",
    "    end_time = time.time()\n",
    "\n",
    "    results.append({\n",
    "        \"Model\": name,\n",
    "        \"Accuracy\": accuracy_score(y_test, y_pred),\n",
    "        \"Precision\": precision_score(y_test, y_pred, average='macro'),\n",
    "        \"Recall\": recall_score(y_test, y_pred, average='macro'),\n",
    "        \"F1-Score\": f1_score(y_test, y_pred, average='macro'),\n",
    "        \"Training Time (s)\": round(end_time - start_time, 2)\n",
    "    })"
   ]
  },
  {
   "cell_type": "code",
   "execution_count": null,
   "metadata": {},
   "outputs": [
    {
     "name": "stderr",
     "output_type": "stream",
     "text": [
      "c:\\Users\\RONIT\\AppData\\Local\\Programs\\Python\\Python310\\lib\\site-packages\\keras\\src\\layers\\core\\dense.py:87: UserWarning: Do not pass an `input_shape`/`input_dim` argument to a layer. When using Sequential models, prefer using an `Input(shape)` object as the first layer in the model instead.\n",
      "  super().__init__(activity_regularizer=activity_regularizer, **kwargs)\n"
     ]
    },
    {
     "name": "stdout",
     "output_type": "stream",
     "text": [
      "\u001b[1m313/313\u001b[0m \u001b[32m━━━━━━━━━━━━━━━━━━━━\u001b[0m\u001b[37m\u001b[0m \u001b[1m0s\u001b[0m 1ms/step\n"
     ]
    },
    {
     "name": "stderr",
     "output_type": "stream",
     "text": [
      "c:\\Users\\RONIT\\AppData\\Local\\Programs\\Python\\Python310\\lib\\site-packages\\keras\\src\\layers\\reshaping\\reshape.py:39: UserWarning: Do not pass an `input_shape`/`input_dim` argument to a layer. When using Sequential models, prefer using an `Input(shape)` object as the first layer in the model instead.\n",
      "  super().__init__(**kwargs)\n"
     ]
    },
    {
     "name": "stdout",
     "output_type": "stream",
     "text": [
      "\u001b[1m313/313\u001b[0m \u001b[32m━━━━━━━━━━━━━━━━━━━━\u001b[0m\u001b[37m\u001b[0m \u001b[1m0s\u001b[0m 1ms/step\n"
     ]
    }
   ],
   "source": [
    "# Step 3: Train Deep Learning models (Using GPU for acceleration)\n",
    "# Convert data for PyTorch & TensorFlow\n",
    "X_train_tensor = torch.tensor(X_train, dtype=torch.float32)\n",
    "y_train_tensor = torch.tensor(y_train, dtype=torch.long)\n",
    "X_test_tensor = torch.tensor(X_test, dtype=torch.float32)\n",
    "y_test_tensor = torch.tensor(y_test, dtype=torch.long)\n",
    "\n",
    "train_loader = DataLoader(TensorDataset(X_train_tensor, y_train_tensor), batch_size=128, shuffle=True)\n",
    "test_loader = DataLoader(TensorDataset(X_test_tensor, y_test_tensor), batch_size=128, shuffle=False)\n",
    "\n",
    "device = torch.device(\"cuda\" if torch.cuda.is_available() else \"cpu\")\n",
    "\n",
    "# PyTorch CNN Model\n",
    "class CNNModel(nn.Module):\n",
    "    def __init__(self, input_size):\n",
    "        super(CNNModel, self).__init__()\n",
    "        self.fc1 = nn.Linear(input_size, 256)\n",
    "        self.relu = nn.ReLU()\n",
    "        self.fc2 = nn.Linear(256, 10)\n",
    "\n",
    "    def forward(self, x):\n",
    "        x = self.fc1(x)\n",
    "        x = self.relu(x)\n",
    "        x = self.fc2(x)\n",
    "        return x\n",
    "\n",
    "cnn_model = CNNModel(X_train.shape[1]).to(device)\n",
    "optimizer = optim.Adam(cnn_model.parameters(), lr=0.001)\n",
    "criterion = nn.CrossEntropyLoss()\n",
    "\n",
    "# Train PyTorch CNN\n",
    "start_time = time.time()\n",
    "for epoch in range(5):  # 5 epochs for speed\n",
    "    for batch_x, batch_y in train_loader:\n",
    "        batch_x, batch_y = batch_x.to(device), batch_y.to(device)\n",
    "        optimizer.zero_grad()\n",
    "        outputs = cnn_model(batch_x)\n",
    "        loss = criterion(outputs, batch_y)\n",
    "        loss.backward()\n",
    "        optimizer.step()\n",
    "end_time = time.time()\n",
    "\n",
    "# Evaluate PyTorch CNN\n",
    "cnn_model.eval()\n",
    "y_pred_cnn = cnn_model(X_test_tensor.to(device)).argmax(dim=1).cpu().numpy()\n",
    "\n",
    "results.append({\n",
    "    \"Model\": \"CNN (PyTorch)\",\n",
    "    \"Accuracy\": accuracy_score(y_test, y_pred_cnn),\n",
    "    \"Precision\": precision_score(y_test, y_pred_cnn, average='macro'),\n",
    "    \"Recall\": recall_score(y_test, y_pred_cnn, average='macro'),\n",
    "    \"F1-Score\": f1_score(y_test, y_pred_cnn, average='macro'),\n",
    "    \"Training Time (s)\": round(end_time - start_time, 2)\n",
    "})\n",
    "\n",
    "# TensorFlow Fully Connected Neural Network\n",
    "tf_model = keras.Sequential([\n",
    "    keras.layers.Dense(256, activation=\"relu\", input_shape=(X_train.shape[1],)),\n",
    "    keras.layers.Dense(128, activation=\"relu\"),\n",
    "    keras.layers.Dense(10, activation=\"softmax\")\n",
    "])\n",
    "\n",
    "tf_model.compile(optimizer=\"adam\", loss=\"sparse_categorical_crossentropy\", metrics=[\"accuracy\"])\n",
    "start_time = time.time()\n",
    "tf_model.fit(X_train, y_train, epochs=5, batch_size=128, verbose=0)\n",
    "end_time = time.time()\n",
    "\n",
    "y_pred_tf = np.argmax(tf_model.predict(X_test), axis=1)\n",
    "\n",
    "results.append({\n",
    "    \"Model\": \"Dense NN (TF)\",\n",
    "    \"Accuracy\": accuracy_score(y_test, y_pred_tf),\n",
    "    \"Precision\": precision_score(y_test, y_pred_tf, average='macro'),\n",
    "    \"Recall\": recall_score(y_test, y_pred_tf, average='macro'),\n",
    "    \"F1-Score\": f1_score(y_test, y_pred_tf, average='macro'),\n",
    "    \"Training Time (s)\": round(end_time - start_time, 2)\n",
    "})\n",
    "\n",
    "# TensorFlow CNN Model\n",
    "cnn_tf = keras.Sequential([\n",
    "    keras.layers.Reshape((20, 20, 1), input_shape=(X_train.shape[1],)),    \n",
    "    keras.layers.Conv2D(32, kernel_size=(3,3), activation=\"relu\"),\n",
    "    keras.layers.MaxPooling2D(pool_size=(2,2)),\n",
    "    keras.layers.Flatten(),\n",
    "    keras.layers.Dense(128, activation=\"relu\"),\n",
    "    keras.layers.Dense(10, activation=\"softmax\")\n",
    "])\n",
    "\n",
    "cnn_tf.compile(optimizer=\"adam\", loss=\"sparse_categorical_crossentropy\", metrics=[\"accuracy\"])\n",
    "start_time = time.time()\n",
    "cnn_tf.fit(X_train, y_train, epochs=5, batch_size=128, verbose=0)\n",
    "end_time = time.time()\n",
    "\n",
    "y_pred_tf_cnn = np.argmax(cnn_tf.predict(X_test), axis=1)\n",
    "\n",
    "results.append({\n",
    "    \"Model\": \"CNN (TF)\",\n",
    "    \"Accuracy\": accuracy_score(y_test, y_pred_tf_cnn),\n",
    "    \"Precision\": precision_score(y_test, y_pred_tf_cnn, average='macro'),\n",
    "    \"Recall\": recall_score(y_test, y_pred_tf_cnn, average='macro'),\n",
    "    \"F1-Score\": f1_score(y_test, y_pred_tf_cnn, average='macro'),\n",
    "    \"Training Time (s)\": round(end_time - start_time, 2)\n",
    "})"
   ]
  },
  {
   "cell_type": "code",
   "execution_count": 5,
   "metadata": {},
   "outputs": [
    {
     "name": "stdout",
     "output_type": "stream",
     "text": [
      "                 Model  Accuracy  Precision    Recall  F1-Score  \\\n",
      "0        Random Forest    0.9704   0.970116  0.970027  0.970045   \n",
      "1                  SVM    0.9766   0.976484  0.976311  0.976369   \n",
      "2  Logistic Regression    0.9233   0.922519  0.922346  0.922375   \n",
      "3                  KNN    0.9561   0.957116  0.955528  0.955937   \n",
      "4          Naive Bayes    0.6985   0.750783  0.693985  0.700394   \n",
      "5        CNN (PyTorch)    0.9773   0.977066  0.977013  0.976997   \n",
      "6        Dense NN (TF)    0.9775   0.977451  0.977179  0.977263   \n",
      "7             CNN (TF)    0.9841   0.983970  0.984020  0.983928   \n",
      "\n",
      "   Training Time (s)  \n",
      "0              37.90  \n",
      "1             156.30  \n",
      "2               7.82  \n",
      "3               3.56  \n",
      "4               0.59  \n",
      "5               5.09  \n",
      "6               5.85  \n",
      "7              16.02  \n"
     ]
    },
    {
     "data": {
      "image/png": "[encoded data removed]",
      "text/plain": [
       "<Figure size 1000x600 with 1 Axes>"
      ]
     },
     "metadata": {},
     "output_type": "display_data"
    }
   ],
   "source": [
    "# Step 4: Compare Results\n",
    "results_df = pd.DataFrame(results)\n",
    "print(results_df)\n",
    "\n",
    "# Plot Model Accuracy Comparison\n",
    "plt.figure(figsize=(10,6))\n",
    "sns.barplot(data=results_df, x=\"Model\", y=\"Accuracy\")\n",
    "plt.xticks(rotation=45)\n",
    "plt.title(\"Model Accuracy Comparison\")\n",
    "plt.show()"
   ]
  },
  {
   "cell_type": "code",
   "execution_count": 6,
   "metadata": {},
   "outputs": [
    {
     "name": "stdout",
     "output_type": "stream",
     "text": [
      "Best ML algorithm is SVM and best DL algorithm is CNN (TF).\n"
     ]
    }
   ],
   "source": [
    "# Find the best ML and DL algorithms based on Accuracy\n",
    "best_ml = max(results[:5], key=lambda x: x[\"Accuracy\"])[\"Model\"]  # First 5 are ML\n",
    "best_dl = max(results[5:], key=lambda x: x[\"Accuracy\"])[\"Model\"]  # Last 3 are DL\n",
    "\n",
    "print(f\"Best ML algorithm is {best_ml} and best DL algorithm is {best_dl}.\")"
   ]
  },
  {
   "cell_type": "code",
   "execution_count": 7,
   "metadata": {},
   "outputs": [
    {
     "name": "stdout",
     "output_type": "stream",
     "text": [
      "Saved ML model: Random Forest at ../3MODEL_SELECTION/MODELS\\ML_models\\Random_Forest.pkl\n",
      "Saved ML model: SVM at ../3MODEL_SELECTION/MODELS\\ML_models\\SVM.pkl\n",
      "Saved ML model: Logistic Regression at ../3MODEL_SELECTION/MODELS\\ML_models\\Logistic_Regression.pkl\n",
      "Saved ML model: KNN at ../3MODEL_SELECTION/MODELS\\ML_models\\KNN.pkl\n",
      "Saved ML model: Naive Bayes at ../3MODEL_SELECTION/MODELS\\ML_models\\Naive_Bayes.pkl\n",
      "Saved DL model: CNN (PyTorch) at ../3MODEL_SELECTION/MODELS\\DL_models\\CNN_PyTorch.pth\n",
      "Saved DL model: Dense NN (TF) at ../3MODEL_SELECTION/MODELS\\DL_models\\Dense_NN_TF.keras\n",
      "Saved DL model: CNN (TF) at ../3MODEL_SELECTION/MODELS\\DL_models\\CNN_TF.keras\n"
     ]
    }
   ],
   "source": [
    "import os\n",
    "import joblib\n",
    "\n",
    "# Define directories for saving models\n",
    "model_dir = \"../3MODEL_SELECTION/MODELS\"\n",
    "ml_model_dir = os.path.join(model_dir, \"ML_models\")\n",
    "dl_model_dir = os.path.join(model_dir, \"DL_models\")\n",
    "\n",
    "# Create directories if they don’t exist\n",
    "os.makedirs(ml_model_dir, exist_ok=True)\n",
    "os.makedirs(dl_model_dir, exist_ok=True)\n",
    "\n",
    "# Save all trained ML models\n",
    "for name, model in models.items():\n",
    "    model_path = os.path.join(ml_model_dir, f\"{name.replace(' ', '_')}.pkl\")\n",
    "    joblib.dump(model, model_path)\n",
    "    print(f\"Saved ML model: {name} at {model_path}\")\n",
    "\n",
    "# Save the trained PyTorch CNN model\n",
    "cnn_model_path = os.path.join(dl_model_dir, \"CNN_PyTorch.pth\")\n",
    "torch.save(cnn_model.state_dict(), cnn_model_path)\n",
    "print(f\"Saved DL model: CNN (PyTorch) at {cnn_model_path}\")\n",
    "\n",
    "# Save the trained TensorFlow Dense NN model\n",
    "dense_nn_tf_path = os.path.join(dl_model_dir, \"Dense_NN_TF.keras\")  # Add .keras extension\n",
    "tf_model.save(dense_nn_tf_path)\n",
    "print(f\"Saved DL model: Dense NN (TF) at {dense_nn_tf_path}\")\n",
    "\n",
    "# Save the trained TensorFlow CNN model\n",
    "cnn_tf_path = os.path.join(dl_model_dir, \"CNN_TF.keras\")  # Add .keras extension\n",
    "cnn_tf.save(cnn_tf_path)\n",
    "print(f\"Saved DL model: CNN (TF) at {cnn_tf_path}\")"
   ]
  },
  {
   "cell_type": "code",
   "execution_count": 8,
   "metadata": {},
   "outputs": [
    {
     "name": "stdout",
     "output_type": "stream",
     "text": [
      "Best model (CNN TF) saved at: ../3MODEL_SELECTION/MODELS/Best_Model/CNN_TF.keras\n"
     ]
    }
   ],
   "source": [
    "# Define the best model directory\n",
    "best_model_dir = \"../3MODEL_SELECTION/MODELS/Best_Model/\"\n",
    "os.makedirs(best_model_dir, exist_ok=True)\n",
    "\n",
    "# Define the model path\n",
    "best_model_path = os.path.join(best_model_dir, \"CNN_TF.keras\")\n",
    "\n",
    "# Save the CNN (TF) model\n",
    "cnn_tf.save(best_model_path)\n",
    "\n",
    "print(f\"Best model (CNN TF) saved at: {best_model_path}\")"
   ]
  },
  {
   "cell_type": "markdown",
   "metadata": {},
   "source": [
    "# best model is of Convolutional Neural Network (CNN) : TensorFlow (accuracy 0.9841)"
   ]
  }
 ],
 "metadata": {
  "kernelspec": {
   "display_name": "Python 3",
   "language": "python",
   "name": "python3"
  },
  "language_info": {
   "codemirror_mode": {
    "name": "ipython",
    "version": 3
   },
   "file_extension": ".py",
   "mimetype": "text/x-python",
   "name": "python",
   "nbconvert_exporter": "python",
   "pygments_lexer": "ipython3",
   "version": "3.10.11"
  }
 },
 "nbformat": 4,
 "nbformat_minor": 2
}
