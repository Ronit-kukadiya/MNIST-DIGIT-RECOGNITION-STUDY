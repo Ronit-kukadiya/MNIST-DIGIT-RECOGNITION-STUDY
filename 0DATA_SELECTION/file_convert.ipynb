{
 "cells": [
  {
   "cell_type": "markdown",
   "metadata": {},
   "source": [
    "### This file converts the the 'idx3' images and 'idx1' labels files to 'CSV' formate"
   ]
  },
  {
   "cell_type": "code",
   "execution_count": null,
   "metadata": {},
   "outputs": [],
   "source": [
    "# inport necessary libraries\n",
    "import idx2numpy #this library is used for the conversion\n",
    "import numpy as np\n",
    "import pandas as pd\n",
    "import os"
   ]
  },
  {
   "cell_type": "code",
   "execution_count": null,
   "metadata": {},
   "outputs": [],
   "source": [
    "# Define folder paths\n",
    "idx_folder = \"IDX_files\"\n",
    "csv_folder = \"CSV_data\"\n",
    "# os.makedirs(csv_folder, exist_ok=True)  # Create folder if not exists already"
   ]
  },
  {
   "cell_type": "code",
   "execution_count": null,
   "metadata": {},
   "outputs": [],
   "source": [
    "# idx File paths\n",
    "train_images_path = os.path.join(idx_folder, \"train-images.idx3-ubyte\")\n",
    "train_labels_path = os.path.join(idx_folder, \"train-labels.idx1-ubyte\")\n",
    "test_images_path = os.path.join(idx_folder, \"t10k-images.idx3-ubyte\")\n",
    "test_labels_path = os.path.join(idx_folder, \"t10k-labels.idx1-ubyte\")"
   ]
  },
  {
   "cell_type": "code",
   "execution_count": null,
   "metadata": {},
   "outputs": [],
   "source": [
    "# function to convert idx files to csv files\n",
    "def convert_idx_to_csv(image_path, label_path, output_csv):\n",
    "    # Load images and labels\n",
    "    images = idx2numpy.convert_from_file(image_path)  # Shape: (num_samples, 28, 28)\n",
    "    labels = idx2numpy.convert_from_file(label_path)  # Shape: (num_samples,)\n",
    "\n",
    "    # Flatten images (28x28 → 784)\n",
    "    images_flattened = images.reshape(images.shape[0], -1)  # (num_samples, 784)\n",
    "\n",
    "    # Combine labels and images\n",
    "    data = np.column_stack((labels, images_flattened))  # First column = label\n",
    "\n",
    "    # Create DataFrame and save to CSV\n",
    "    columns = [\"label\"] + [f\"pixel_{i}\" for i in range(784)]  # Column names\n",
    "    df = pd.DataFrame(data, columns=columns)\n",
    "    df.to_csv(output_csv, index=False)\n",
    "\n",
    "    print(f\"Saved: {output_csv}\")"
   ]
  },
  {
   "cell_type": "code",
   "execution_count": 9,
   "metadata": {},
   "outputs": [
    {
     "name": "stdout",
     "output_type": "stream",
     "text": [
      "Saved: CSV_data\\train_data.csv\n",
      "Saved: CSV_data\\test_data.csv\n"
     ]
    }
   ],
   "source": [
    "# Convert and save train & test data\n",
    "convert_idx_to_csv(train_images_path, train_labels_path, os.path.join(csv_folder, \"train_data.csv\"))\n",
    "convert_idx_to_csv(test_images_path, test_labels_path, os.path.join(csv_folder, \"test_data.csv\"))"
   ]
  }
 ],
 "metadata": {
  "kernelspec": {
   "display_name": "Python 3",
   "language": "python",
   "name": "python3"
  },
  "language_info": {
   "codemirror_mode": {
    "name": "ipython",
    "version": 3
   },
   "file_extension": ".py",
   "mimetype": "text/x-python",
   "name": "python",
   "nbconvert_exporter": "python",
   "pygments_lexer": "ipython3",
   "version": "3.10.11"
  }
 },
 "nbformat": 4,
 "nbformat_minor": 2
}
