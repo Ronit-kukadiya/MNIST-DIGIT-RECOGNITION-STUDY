{
 "cells": [
  {
   "cell_type": "markdown",
   "metadata": {},
   "source": [
    "### we crop down the images to reduce the features, hence increasing the performance\n",
    "#### features reduced from 783 to 399"
   ]
  },
  {
   "cell_type": "code",
   "execution_count": null,
   "metadata": {},
   "outputs": [],
   "source": [
    "# import the necessary libraries\n",
    "import pandas as pd\n",
    "import numpy as np\n",
    "import matplotlib.pyplot as plt\n",
    "import cv2"
   ]
  },
  {
   "cell_type": "code",
   "execution_count": 14,
   "metadata": {},
   "outputs": [],
   "source": [
    "# Load train and test data\n",
    "train_df = pd.read_csv(\"Processed_CSV/preprocessed_train.csv\")\n",
    "test_df = pd.read_csv(\"Processed_CSV/preprocessed_test.csv\")\n",
    "\n",
    "# Separate labels and images\n",
    "train_labels = train_df.iloc[:, 0]\n",
    "train_images = train_df.iloc[:, 1:].values.reshape(-1, 28, 28)  # Reshape to (60000, 28, 28)\n",
    "test_labels = test_df.iloc[:, 0]\n",
    "test_images = test_df.iloc[:, 1:].values.reshape(-1, 28, 28)"
   ]
  },
  {
   "cell_type": "code",
   "execution_count": null,
   "metadata": {},
   "outputs": [],
   "source": [
    "# this function crops and centers the image to 20x20 resolution \n",
    "def crop_and_center(image):\n",
    "    \"\"\"Crops out empty space around the digit and centers it in a fixed square.\"\"\"\n",
    "    # Find nonzero pixel locations\n",
    "    coords = cv2.findNonZero((image > 0).astype(np.uint8))\n",
    "\n",
    "    if coords is None:\n",
    "        return np.zeros((20, 20))  # If the image is fully black, return a blank 20x20\n",
    "\n",
    "    # Get bounding box around digit\n",
    "    x, y, w, h = cv2.boundingRect(coords)\n",
    "\n",
    "    # Crop the image\n",
    "    cropped = image[y:y+h, x:x+w]\n",
    "\n",
    "    # Resize to fixed 20x20 while keeping aspect ratio\n",
    "    target_size = 20\n",
    "    h, w = cropped.shape\n",
    "    scale = target_size / max(h, w)\n",
    "    new_h, new_w = int(h * scale), int(w * scale)\n",
    "    resized = cv2.resize(cropped, (new_w, new_h), interpolation=cv2.INTER_AREA)\n",
    "\n",
    "    # Center in a fixed 20x20 canvas\n",
    "    final_image = np.zeros((target_size, target_size))\n",
    "    x_offset = (target_size - new_w) // 2\n",
    "    y_offset = (target_size - new_h) // 2\n",
    "    final_image[y_offset:y_offset+new_h, x_offset:x_offset+new_w] = resized\n",
    "\n",
    "    return final_image"
   ]
  },
  {
   "cell_type": "code",
   "execution_count": 16,
   "metadata": {},
   "outputs": [],
   "source": [
    "# Apply cropping and centering to all images\n",
    "train_images_centered = [crop_and_center(img) for img in train_images]\n",
    "test_images_centered = [crop_and_center(img) for img in test_images]\n",
    "\n",
    "# Flatten images for CSV storage\n",
    "train_images_flat = pd.DataFrame([img.flatten() for img in train_images_centered])\n",
    "test_images_flat = pd.DataFrame([img.flatten() for img in test_images_centered])\n",
    "\n",
    "# Recombine with labels\n",
    "centered_train_df = pd.concat([train_labels.reset_index(drop=True), train_images_flat], axis=1)\n",
    "centered_test_df = pd.concat([test_labels.reset_index(drop=True), test_images_flat], axis=1)"
   ]
  },
  {
   "cell_type": "code",
   "execution_count": 17,
   "metadata": {},
   "outputs": [
    {
     "name": "stdout",
     "output_type": "stream",
     "text": [
      "Cropped and centered images saved successfully!\n"
     ]
    }
   ],
   "source": [
    "# Save cropped images as CSV\n",
    "centered_train_df.to_csv(\"Processed_CSV/cropped_train.csv\", index=False)\n",
    "centered_test_df.to_csv(\"Processed_CSV/cropped_test.csv\", index=False)\n",
    "\n",
    "print(\"Cropped and centered images saved successfully!\")"
   ]
  },
  {
   "cell_type": "code",
   "execution_count": null,
   "metadata": {},
   "outputs": [
    {
     "data": {
      "image/png": "[encoded data removed]",
      "text/plain": [
       "<Figure size 1000x500 with 2 Axes>"
      ]
     },
     "metadata": {},
     "output_type": "display_data"
    }
   ],
   "source": [
    "# Display an example before and after cropping\n",
    "fig, axes = plt.subplots(1, 2, figsize=(10, 5))\n",
    "\n",
    "# Original Image\n",
    "axes[0].imshow(train_images[0], cmap='gray')\n",
    "axes[0].set_title(\"Original Image (28x28)\")\n",
    "\n",
    "# Cropped & Centered Image\n",
    "axes[1].imshow(train_images_centered[0], cmap='gray')\n",
    "axes[1].set_title(\"Cropped & Centered (20x20)\")\n",
    "\n",
    "plt.show()"
   ]
  }
 ],
 "metadata": {
  "kernelspec": {
   "display_name": "Python 3",
   "language": "python",
   "name": "python3"
  },
  "language_info": {
   "codemirror_mode": {
    "name": "ipython",
    "version": 3
   },
   "file_extension": ".py",
   "mimetype": "text/x-python",
   "name": "python",
   "nbconvert_exporter": "python",
   "pygments_lexer": "ipython3",
   "version": "3.10.11"
  }
 },
 "nbformat": 4,
 "nbformat_minor": 2
}
